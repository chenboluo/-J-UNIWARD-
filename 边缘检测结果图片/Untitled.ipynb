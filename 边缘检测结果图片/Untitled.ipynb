{
 "cells": [
  {
   "cell_type": "code",
   "execution_count": 30,
   "id": "9ae6da35",
   "metadata": {},
   "outputs": [],
   "source": [
    "import imageio\n",
    "import os\n",
    "import sys\n",
    "\n",
    "def create_gif(source, name, duration):\n",
    "\t\"\"\"\n",
    "     生成gif的函数，原始图片仅支持png\n",
    "     source: 为png图片列表（排好序）\n",
    "     name ：生成的文件名称\n",
    "     duration: 每张图片之间的时间间隔\n",
    "\t\"\"\"\n",
    "\tframes = []     # 读入缓冲区\n",
    "\tfor img in source:\n",
    "\t\tframes.append(imageio.imread(img))\n",
    "\timageio.mimsave(name, frames, 'GIF', duration=duration)\n",
    "\tprint(\"处理完成\")"
   ]
  },
  {
   "cell_type": "code",
   "execution_count": 31,
   "id": "f4055241",
   "metadata": {},
   "outputs": [],
   "source": [
    "def main(or_path):\n",
    "\t\"\"\"\n",
    "\tor_path: 目标的文件夹\n",
    "\t\"\"\"\n",
    "\tpath = os.chdir(or_path)\n",
    "\tpic_list = os.listdir()\n",
    "\tgif_name = \"result.gif\"  # 生成gif文件的名称\n",
    "\tduration_time = 0.5\n",
    "\t# 生成gif\n",
    "\tcreate_gif(pic_list, gif_name, duration_time)\n"
   ]
  },
  {
   "cell_type": "code",
   "execution_count": null,
   "id": "524dfb58",
   "metadata": {},
   "outputs": [],
   "source": []
  },
  {
   "cell_type": "code",
   "execution_count": 32,
   "id": "5958ec7d",
   "metadata": {},
   "outputs": [
    {
     "name": "stdout",
     "output_type": "stream",
     "text": [
      "C:/Users/陈涛/Desktop/隐写/CIHC-2019-master/CIHC-2019-master/代码/边缘检测结果图片/canny\n"
     ]
    },
    {
     "name": "stderr",
     "output_type": "stream",
     "text": [
      "C:\\Users\\陈涛\\AppData\\Local\\Temp\\ipykernel_14432\\407596994.py:14: DeprecationWarning: Starting with ImageIO v3 the behavior of this function will switch to that of iio.v3.imread. To keep the current behavior (and make this warning disappear) use `import imageio.v2 as imageio` or call `imageio.v2.imread` directly.\n",
      "  frames.append(imageio.imread(img))\n"
     ]
    },
    {
     "name": "stdout",
     "output_type": "stream",
     "text": [
      "处理完成\n",
      "C:/Users/陈涛/Desktop/隐写/CIHC-2019-master/CIHC-2019-master/代码/边缘检测结果图片/log\n",
      "处理完成\n",
      "C:/Users/陈涛/Desktop/隐写/CIHC-2019-master/CIHC-2019-master/代码/边缘检测结果图片/prewitt\n",
      "处理完成\n",
      "C:/Users/陈涛/Desktop/隐写/CIHC-2019-master/CIHC-2019-master/代码/边缘检测结果图片/roberts\n",
      "处理完成\n",
      "C:/Users/陈涛/Desktop/隐写/CIHC-2019-master/CIHC-2019-master/代码/边缘检测结果图片/sobel\n",
      "处理完成\n",
      "C:/Users/陈涛/Desktop/隐写/CIHC-2019-master/CIHC-2019-master/代码/边缘检测结果图片/zerocross\n",
      "处理完成\n",
      "C:/Users/陈涛/Desktop/隐写/CIHC-2019-master/CIHC-2019-master/代码/边缘检测结果图片/阈值化\n",
      "处理完成\n"
     ]
    }
   ],
   "source": [
    "import os\n",
    "path = r'C:/Users/陈涛/Desktop/隐写/CIHC-2019-master/CIHC-2019-master/代码/边缘检测结果图片/'\n",
    "for filename in os.listdir(path):\n",
    "    if(filename.find('ipynb_checkpoints')!=-1):\n",
    "        continue\n",
    "    if(filename.find('Untitled.')!=-1):\n",
    "        continue\n",
    "    #print(os.path.join(path, filename))\n",
    "    print(path+filename)\n",
    "    n = path+filename\n",
    "    main(n)"
   ]
  },
  {
   "cell_type": "code",
   "execution_count": null,
   "id": "433f063e",
   "metadata": {},
   "outputs": [],
   "source": []
  },
  {
   "cell_type": "code",
   "execution_count": null,
   "id": "e229d701",
   "metadata": {},
   "outputs": [],
   "source": []
  }
 ],
 "metadata": {
  "kernelspec": {
   "display_name": "Python 3 (ipykernel)",
   "language": "python",
   "name": "python3"
  },
  "language_info": {
   "codemirror_mode": {
    "name": "ipython",
    "version": 3
   },
   "file_extension": ".py",
   "mimetype": "text/x-python",
   "name": "python",
   "nbconvert_exporter": "python",
   "pygments_lexer": "ipython3",
   "version": "3.10.7"
  }
 },
 "nbformat": 4,
 "nbformat_minor": 5
}
